{
 "cells": [
  {
   "cell_type": "code",
   "execution_count": 20,
   "id": "eb0a1c4e",
   "metadata": {},
   "outputs": [],
   "source": [
    "import numpy as np \n",
    "import tensorflow as tf \n",
    "from tensorflow import keras \n",
    "import pandas as pd \n",
    "import matplotlib.pyplot as plt \n",
    "from sklearn.model_selection import train_test_split\n",
    "import random \n",
    "\n",
    "%matplotlib inline "
   ]
  },
  {
   "cell_type": "code",
   "execution_count": 4,
   "id": "d0ae825f",
   "metadata": {},
   "outputs": [
    {
     "data": {
      "text/html": [
       "<div>\n",
       "<style scoped>\n",
       "    .dataframe tbody tr th:only-of-type {\n",
       "        vertical-align: middle;\n",
       "    }\n",
       "\n",
       "    .dataframe tbody tr th {\n",
       "        vertical-align: top;\n",
       "    }\n",
       "\n",
       "    .dataframe thead th {\n",
       "        text-align: right;\n",
       "    }\n",
       "</style>\n",
       "<table border=\"1\" class=\"dataframe\">\n",
       "  <thead>\n",
       "    <tr style=\"text-align: right;\">\n",
       "      <th></th>\n",
       "      <th>area</th>\n",
       "      <th>bedrooms</th>\n",
       "      <th>price</th>\n",
       "    </tr>\n",
       "  </thead>\n",
       "  <tbody>\n",
       "    <tr>\n",
       "      <th>0</th>\n",
       "      <td>1056</td>\n",
       "      <td>2</td>\n",
       "      <td>39.07</td>\n",
       "    </tr>\n",
       "    <tr>\n",
       "      <th>1</th>\n",
       "      <td>2600</td>\n",
       "      <td>4</td>\n",
       "      <td>120.00</td>\n",
       "    </tr>\n",
       "    <tr>\n",
       "      <th>2</th>\n",
       "      <td>1440</td>\n",
       "      <td>3</td>\n",
       "      <td>62.00</td>\n",
       "    </tr>\n",
       "    <tr>\n",
       "      <th>3</th>\n",
       "      <td>1521</td>\n",
       "      <td>3</td>\n",
       "      <td>75.00</td>\n",
       "    </tr>\n",
       "    <tr>\n",
       "      <th>4</th>\n",
       "      <td>1200</td>\n",
       "      <td>2</td>\n",
       "      <td>51.00</td>\n",
       "    </tr>\n",
       "  </tbody>\n",
       "</table>\n",
       "</div>"
      ],
      "text/plain": [
       "   area  bedrooms   price\n",
       "0  1056         2   39.07\n",
       "1  2600         4  120.00\n",
       "2  1440         3   62.00\n",
       "3  1521         3   75.00\n",
       "4  1200         2   51.00"
      ]
     },
     "execution_count": 4,
     "metadata": {},
     "output_type": "execute_result"
    }
   ],
   "source": [
    "df = pd.read_csv('https://raw.githubusercontent.com/codebasics/deep-learning-keras-tf-tutorial/master/8_sgd_vs_gd/homeprices_banglore.csv')\n",
    "df.head()"
   ]
  },
  {
   "cell_type": "markdown",
   "id": "0fd69608",
   "metadata": {},
   "source": [
    "## batch gradient descent "
   ]
  },
  {
   "cell_type": "code",
   "execution_count": 16,
   "id": "0ef05e87",
   "metadata": {},
   "outputs": [
    {
     "data": {
      "text/plain": [
       "array([[0.08827586, 0.25      ],\n",
       "       [0.62068966, 0.75      ],\n",
       "       [0.22068966, 0.5       ],\n",
       "       [0.24862069, 0.5       ],\n",
       "       [0.13793103, 0.25      ],\n",
       "       [0.12758621, 0.25      ],\n",
       "       [0.6662069 , 0.75      ],\n",
       "       [0.86206897, 0.75      ],\n",
       "       [0.17586207, 0.5       ],\n",
       "       [1.        , 1.        ],\n",
       "       [0.34482759, 0.5       ],\n",
       "       [0.68448276, 0.75      ],\n",
       "       [0.06896552, 0.25      ],\n",
       "       [0.10344828, 0.25      ],\n",
       "       [0.5       , 0.5       ],\n",
       "       [0.12931034, 0.25      ],\n",
       "       [0.13103448, 0.5       ],\n",
       "       [0.25517241, 0.5       ],\n",
       "       [0.67931034, 0.5       ],\n",
       "       [0.        , 0.        ]])"
      ]
     },
     "execution_count": 16,
     "metadata": {},
     "output_type": "execute_result"
    }
   ],
   "source": [
    "from sklearn import preprocessing\n",
    "sx = preprocessing.MinMaxScaler()\n",
    "sy = preprocessing.MinMaxScaler()\n",
    "\n",
    "X_scaled = sx.fit_transform(df.drop('price',axis='columns'))\n",
    "y_scaled = sy.fit_transform(df['price'].values.reshape(df.shape[0],1))\n",
    "\n",
    "X_scaled"
   ]
  },
  {
   "cell_type": "code",
   "execution_count": 7,
   "id": "e0d8ba34",
   "metadata": {},
   "outputs": [
    {
     "data": {
      "text/plain": [
       "array([0.05237037, 0.65185185, 0.22222222, 0.31851852, 0.14074074,\n",
       "       0.04444444, 0.76296296, 0.91111111, 0.13333333, 1.        ,\n",
       "       0.37037037, 0.8       , 0.04444444, 0.05925926, 0.51111111,\n",
       "       0.07407407, 0.11851852, 0.20740741, 0.51851852, 0.        ])"
      ]
     },
     "execution_count": 7,
     "metadata": {},
     "output_type": "execute_result"
    }
   ],
   "source": [
    "y_scaled.reshape(20,)"
   ]
  },
  {
   "cell_type": "code",
   "execution_count": 10,
   "id": "14497109",
   "metadata": {},
   "outputs": [
    {
     "data": {
      "text/plain": [
       "(array([0.70712464, 0.67456527]), -0.23034857438407427, 0.0068641890429808105)"
      ]
     },
     "execution_count": 10,
     "metadata": {},
     "output_type": "execute_result"
    }
   ],
   "source": [
    "def batch_gradient_descent(X, y_true, epochs, learning_rate=0.01):\n",
    "    number_features = X.shape[1]\n",
    "    weights = np.ones(shape=(number_features))\n",
    "    bias = 0\n",
    "    total_samples = X.shape[0]\n",
    "    \n",
    "    cost_list, epoch_list = [], []\n",
    "    \n",
    "    for i in range(epochs):\n",
    "        y_predicted = np.dot(weights, X.T) + bias #linear \n",
    "        \n",
    "        weights_grad = -(2 / total_samples) * (X.T.dot(y_true-y_predicted))\n",
    "        bias_grad = -(2 / total_samples) * np.sum(y_true-y_predicted)\n",
    "        \n",
    "        weights = weights - learning_rate * weights_grad \n",
    "        bias = bias - learning_rate * bias_grad \n",
    "        \n",
    "        cost = np.mean(np.square(y_true-y_predicted)) #MSE \n",
    "        \n",
    "        if i % 10 == 0:\n",
    "            cost_list.append(cost)\n",
    "            epoch_list.append(i)\n",
    "    \n",
    "    return weights, bias, cost, cost_list, epoch_list \n",
    "\n",
    "weights, bias, cost, cost_list, epoch_list = batch_gradient_descent(X_scaled, \n",
    "                                                                   y_scaled.reshape(y_scaled.shape[0],),\n",
    "                                                                   500)\n",
    "weights, bias, cost "
   ]
  },
  {
   "cell_type": "code",
   "execution_count": 11,
   "id": "ce2cad0e",
   "metadata": {},
   "outputs": [
    {
     "data": {
      "text/plain": [
       "[<matplotlib.lines.Line2D at 0x1692207f400>]"
      ]
     },
     "execution_count": 11,
     "metadata": {},
     "output_type": "execute_result"
    },
    {
     "data": {
      "image/png": "[encoded data removed]",
      "text/plain": [
       "<Figure size 432x288 with 1 Axes>"
      ]
     },
     "metadata": {
      "needs_background": "light"
     },
     "output_type": "display_data"
    }
   ],
   "source": [
    "plt.xlabel(\"epoch\")\n",
    "plt.ylabel(\"cost\")\n",
    "plt.plot(epoch_list, cost_list)"
   ]
  },
  {
   "cell_type": "code",
   "execution_count": 14,
   "id": "16daae40",
   "metadata": {},
   "outputs": [],
   "source": [
    "def predict(area, bedrooms, weights, bias):\n",
    "    X_scaled = sx.transform([[area, bedrooms]])[0]\n",
    "    scaled_price = np.dot(weights, X_scaled) + bias\n",
    "    \n",
    "    return sy.inverse_transform([[scaled_price]])[0][0]"
   ]
  },
  {
   "cell_type": "code",
   "execution_count": 17,
   "id": "05f8ef86",
   "metadata": {},
   "outputs": [
    {
     "data": {
      "text/plain": [
       "128.45484403267596"
      ]
     },
     "execution_count": 17,
     "metadata": {},
     "output_type": "execute_result"
    }
   ],
   "source": [
    "predict(2600, 4, weights, bias)"
   ]
  },
  {
   "cell_type": "markdown",
   "id": "c45c9646",
   "metadata": {},
   "source": [
    "## stochastic gradient descent "
   ]
  },
  {
   "cell_type": "code",
   "execution_count": 26,
   "id": "65cfa678",
   "metadata": {},
   "outputs": [
    {
     "data": {
      "text/plain": [
       "(array([0.76546373, 0.73468317]), -0.28473691482568236, 0.007055153599616087)"
      ]
     },
     "execution_count": 26,
     "metadata": {},
     "output_type": "execute_result"
    }
   ],
   "source": [
    "def stochastic_gradient_descent(X, y_true, epochs, learning_rate = 0.01):\n",
    "    number_features = X.shape[1]\n",
    "    weights = np.ones(shape=(number_features))\n",
    "    bias = 0 \n",
    "    total_samples = X.shape[0]\n",
    "    \n",
    "    cost_list = []\n",
    "    epoch_list = []\n",
    "    \n",
    "    for i in range(epochs):\n",
    "        random_index = random.randint(0, total_samples - 1)\n",
    "        X_sample = X[random_index]\n",
    "        y_sample = y_true[random_index]\n",
    "        \n",
    "        y_predicted = np.dot(weights, X_sample.T) + bias #linear \n",
    "        \n",
    "        weights_grad = -(2 / total_samples) * (X_sample.T.dot(y_sample-y_predicted))\n",
    "        bias_grad = -(2 / total_samples) * np.sum(y_sample-y_predicted)\n",
    "        \n",
    "        weights = weights - learning_rate * weights_grad \n",
    "        bias = bias - learning_rate * bias_grad \n",
    "        \n",
    "        cost = np.mean(np.square(y_sample-y_predicted)) #MSE \n",
    "        \n",
    "        if i % 10 == 0:\n",
    "            cost_list.append(cost)\n",
    "            epoch_list.append(i)\n",
    "    \n",
    "    return weights, bias, cost, cost_list, epoch_list \n",
    "\n",
    "weights_sgd, bias_sgd, cost_sgd, cost_list_sgd, epoch_list_sgd = stochastic_gradient_descent(X_scaled,\n",
    "                                                                                            y_scaled.reshape(y_scaled.shape[0],),\n",
    "                                                                                            5000)\n",
    "weights_sgd, bias_sgd, cost_sgd"
   ]
  },
  {
   "cell_type": "code",
   "execution_count": 27,
   "id": "5856c367",
   "metadata": {
    "scrolled": true
   },
   "outputs": [
    {
     "data": {
      "text/plain": [
       "[<matplotlib.lines.Line2D at 0x1692392cac0>]"
      ]
     },
     "execution_count": 27,
     "metadata": {},
     "output_type": "execute_result"
    },
    {
     "data": {
      "image/png": "[encoded data removed]",
      "text/plain": [
       "<Figure size 432x288 with 1 Axes>"
      ]
     },
     "metadata": {
      "needs_background": "light"
     },
     "output_type": "display_data"
    }
   ],
   "source": [
    "plt.xlabel(\"epoch\")\n",
    "plt.ylabel(\"cost\")\n",
    "plt.plot(epoch_list_sgd, cost_list_sgd)"
   ]
  },
  {
   "cell_type": "code",
   "execution_count": 28,
   "id": "4cffff18",
   "metadata": {},
   "outputs": [
    {
     "data": {
      "text/plain": [
       "132.08776847235004"
      ]
     },
     "execution_count": 28,
     "metadata": {},
     "output_type": "execute_result"
    }
   ],
   "source": [
    "predict(2600, 4, weights_sgd, bias_sgd)"
   ]
  },
  {
   "cell_type": "markdown",
   "id": "6843e656",
   "metadata": {},
   "source": [
    "## mini batch gradient descent "
   ]
  },
  {
   "cell_type": "code",
   "execution_count": 37,
   "id": "84e9cadd",
   "metadata": {},
   "outputs": [
    {
     "data": {
      "text/plain": [
       "(array([0.71020403, 0.67826574]), -0.23311886249465866, 0.014798094947921826)"
      ]
     },
     "execution_count": 37,
     "metadata": {},
     "output_type": "execute_result"
    }
   ],
   "source": [
    "def mini_batch_gradient_descent(X, y_true, epochs=100, batch_size=5, learning_rate=0.01):\n",
    "    number_features = X.shape[1]\n",
    "    weights = np.ones(shape=(number_features))\n",
    "    bias = 0 \n",
    "    total_samples = X.shape[0]\n",
    "    \n",
    "    if batch_size > total_samples:\n",
    "        batch_size = total_samples\n",
    "    \n",
    "    cost_list = []\n",
    "    epoch_list = []\n",
    "    \n",
    "    num_batches = int(total_samples / batch_size)\n",
    "    \n",
    "    for i in range(epochs):\n",
    "        random_index = np.random.permutation(total_samples)\n",
    "        X_tmp = X[random_index]\n",
    "        y_tmp = y_true[random_index]\n",
    "        \n",
    "        for j in range(0, total_samples, batch_size):\n",
    "            Xj = X_tmp[j:j+batch_size]\n",
    "            yj = y_tmp[j:j+batch_size]\n",
    "            \n",
    "            y_predicted = np.dot(weights, Xj.T) + bias \n",
    "            \n",
    "            weights_grad = -(2 / len(Xj)) * (Xj.T.dot(yj - y_predicted))\n",
    "            bias_grad = -(2 / len(Xj)) * np.sum(yj - y_predicted)\n",
    "            \n",
    "            weights = weights - learning_rate * weights_grad\n",
    "            bias = bias - learning_rate * bias_grad \n",
    "            \n",
    "            cost = np.mean(np.square(yj - y_predicted))\n",
    "        \n",
    "        if i % 10 == 0:\n",
    "            cost_list.append(cost)\n",
    "            epoch_list.append(i)\n",
    "            \n",
    "    return weights, bias, cost, cost_list, epoch_list \n",
    "\n",
    "w_mni, b_mni, c_mni, cl_mni, e_mni = mini_batch_gradient_descent(X_scaled,\n",
    "                                                        y_scaled.reshape(y_scaled.shape[0],),\n",
    "                                                        epochs=120, \n",
    "                                                        batch_size=5)\n",
    "w_mni, b_mni, c_mni "
   ]
  },
  {
   "cell_type": "code",
   "execution_count": 38,
   "id": "675cf4ec",
   "metadata": {},
   "outputs": [
    {
     "data": {
      "text/plain": [
       "[<matplotlib.lines.Line2D at 0x1692399aaf0>]"
      ]
     },
     "execution_count": 38,
     "metadata": {},
     "output_type": "execute_result"
    },
    {
     "data": {
      "image/png": "[encoded data removed]",
      "text/plain": [
       "<Figure size 432x288 with 1 Axes>"
      ]
     },
     "metadata": {
      "needs_background": "light"
     },
     "output_type": "display_data"
    }
   ],
   "source": [
    "plt.xlabel(\"epoch\")\n",
    "plt.ylabel(\"cost\")\n",
    "plt.plot(e_mni,cl_mni)"
   ]
  },
  {
   "cell_type": "code",
   "execution_count": 39,
   "id": "33d449c6",
   "metadata": {},
   "outputs": [
    {
     "data": {
      "text/plain": [
       "128.7135597427428"
      ]
     },
     "execution_count": 39,
     "metadata": {},
     "output_type": "execute_result"
    }
   ],
   "source": [
    "predict(2600, 4, w_mni, b_mni)"
   ]
  }
 ],
 "metadata": {
  "kernelspec": {
   "display_name": "Python 3 (ipykernel)",
   "language": "python",
   "name": "python3"
  },
  "language_info": {
   "codemirror_mode": {
    "name": "ipython",
    "version": 3
   },
   "file_extension": ".py",
   "mimetype": "text/x-python",
   "name": "python",
   "nbconvert_exporter": "python",
   "pygments_lexer": "ipython3",
   "version": "3.9.7"
  }
 },
 "nbformat": 4,
 "nbformat_minor": 5
}

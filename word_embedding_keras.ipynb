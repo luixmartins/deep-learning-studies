{
 "cells": [
  {
   "cell_type": "code",
   "execution_count": 1,
   "id": "18d978cf",
   "metadata": {},
   "outputs": [],
   "source": [
    "import numpy as np \n",
    "from tensorflow.keras.preprocessing.text import one_hot \n",
    "from tensorflow.keras.preprocessing.sequence import pad_sequences \n",
    "from tensorflow.keras.models import Sequential \n",
    "from tensorflow.keras.layers import Dense, Flatten, Embedding \n",
    "\n",
    "reviews = ['nice food',\n",
    "        'amazing restaurant',\n",
    "        'too good',\n",
    "        'just loved it!',\n",
    "        'will go again',\n",
    "        'horrible food',\n",
    "        'never go there',\n",
    "        'poor service',\n",
    "        'poor quality',\n",
    "        'needs improvement']\n",
    "\n",
    "sentiment = np.array([1,1,1,1,1,0,0,0,0,0])"
   ]
  },
  {
   "cell_type": "code",
   "execution_count": 9,
   "id": "62b634ed",
   "metadata": {},
   "outputs": [
    {
     "data": {
      "text/plain": [
       "[[6, 40],\n",
       " [28, 7],\n",
       " [48, 35],\n",
       " [13, 32, 43],\n",
       " [14, 39, 47],\n",
       " [25, 40],\n",
       " [6, 39, 28],\n",
       " [34, 16],\n",
       " [34, 44],\n",
       " [32, 48]]"
      ]
     },
     "execution_count": 9,
     "metadata": {},
     "output_type": "execute_result"
    }
   ],
   "source": [
    "vocab_size = 50\n",
    "encoded_reviews = [one_hot(sentence, vocab_size) for sentence in reviews]\n",
    "encoded_reviews "
   ]
  },
  {
   "cell_type": "code",
   "execution_count": 10,
   "id": "0d07759c",
   "metadata": {},
   "outputs": [
    {
     "data": {
      "text/plain": [
       "array([[ 6, 40,  0,  0],\n",
       "       [28,  7,  0,  0],\n",
       "       [48, 35,  0,  0],\n",
       "       [13, 32, 43,  0],\n",
       "       [14, 39, 47,  0],\n",
       "       [25, 40,  0,  0],\n",
       "       [ 6, 39, 28,  0],\n",
       "       [34, 16,  0,  0],\n",
       "       [34, 44,  0,  0],\n",
       "       [32, 48,  0,  0]])"
      ]
     },
     "execution_count": 10,
     "metadata": {},
     "output_type": "execute_result"
    }
   ],
   "source": [
    "max_length = 4 \n",
    "padded_reviews = pad_sequences(encoded_reviews, maxlen=max_length, padding='post')\n",
    "padded_reviews "
   ]
  },
  {
   "cell_type": "code",
   "execution_count": 11,
   "id": "9c5b2171",
   "metadata": {},
   "outputs": [],
   "source": [
    "embeded_vector_size = 5 \n",
    "\n",
    "model = Sequential()\n",
    "model.add(Embedding(vocab_size, \n",
    "                   embeded_vector_size, \n",
    "                   input_length=max_length, \n",
    "                   name='embedding'))\n",
    "model.add(Flatten())\n",
    "model.add(Dense(1, activation='sigmoid'))"
   ]
  },
  {
   "cell_type": "code",
   "execution_count": 12,
   "id": "66888a4c",
   "metadata": {},
   "outputs": [],
   "source": [
    "X = padded_reviews \n",
    "y = sentiment "
   ]
  },
  {
   "cell_type": "code",
   "execution_count": 14,
   "id": "6f07821a",
   "metadata": {},
   "outputs": [
    {
     "name": "stdout",
     "output_type": "stream",
     "text": [
      "Model: \"sequential\"\n",
      "_________________________________________________________________\n",
      " Layer (type)                Output Shape              Param #   \n",
      "=================================================================\n",
      " embedding (Embedding)       (None, 4, 5)              250       \n",
      "                                                                 \n",
      " flatten (Flatten)           (None, 20)                0         \n",
      "                                                                 \n",
      " dense (Dense)               (None, 1)                 21        \n",
      "                                                                 \n",
      "=================================================================\n",
      "Total params: 271\n",
      "Trainable params: 271\n",
      "Non-trainable params: 0\n",
      "_________________________________________________________________\n"
     ]
    }
   ],
   "source": [
    "model.compile(optimizer='adam', \n",
    "             loss='binary_crossentropy', \n",
    "             metrics=['accuracy'])\n",
    "model.summary()"
   ]
  },
  {
   "cell_type": "code",
   "execution_count": 15,
   "id": "6725b141",
   "metadata": {},
   "outputs": [
    {
     "data": {
      "text/plain": [
       "<keras.callbacks.History at 0x238cf038af0>"
      ]
     },
     "execution_count": 15,
     "metadata": {},
     "output_type": "execute_result"
    }
   ],
   "source": [
    "model.fit(X, y, epochs=50, verbose=0)"
   ]
  },
  {
   "cell_type": "code",
   "execution_count": null,
   "id": "49b4c901",
   "metadata": {},
   "outputs": [],
   "source": [
    "loss, accuracy = model.evaluate"
   ]
  }
 ],
 "metadata": {
  "kernelspec": {
   "display_name": "Python 3 (ipykernel)",
   "language": "python",
   "name": "python3"
  },
  "language_info": {
   "codemirror_mode": {
    "name": "ipython",
    "version": 3
   },
   "file_extension": ".py",
   "mimetype": "text/x-python",
   "name": "python",
   "nbconvert_exporter": "python",
   "pygments_lexer": "ipython3",
   "version": "3.9.7"
  }
 },
 "nbformat": 4,
 "nbformat_minor": 5
}
